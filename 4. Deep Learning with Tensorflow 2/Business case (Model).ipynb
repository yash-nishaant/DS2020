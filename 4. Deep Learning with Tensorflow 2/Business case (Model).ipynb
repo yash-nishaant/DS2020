{
 "cells": [
  {
   "cell_type": "code",
   "execution_count": 1,
   "metadata": {},
   "outputs": [],
   "source": [
    "import numpy as np\n",
    "import tensorflow as tf"
   ]
  },
  {
   "cell_type": "markdown",
   "metadata": {},
   "source": [
    "#### Data"
   ]
  },
  {
   "cell_type": "code",
   "execution_count": 2,
   "metadata": {},
   "outputs": [],
   "source": [
    "npz = np.load('Audiobooks_data_train.npz')\n",
    "train_inputs = npz['inputs'].astype(np.float)\n",
    "train_targets = npz['targets'].astype(np.int)\n",
    "\n",
    "npz = np.load('Audiobooks_data_validation.npz')\n",
    "validation_inputs, validation_targets = npz['inputs'].astype(np.float), npz['targets'].astype(np.int)\n",
    "\n",
    "npz = np.load('Audiobooks_data_test.npz')\n",
    "test_inputs, test_targets = npz['inputs'].astype(np.float), npz['targets'].astype(np.int)"
   ]
  },
  {
   "cell_type": "code",
   "execution_count": 3,
   "metadata": {},
   "outputs": [
    {
     "name": "stdout",
     "output_type": "stream",
     "text": [
      "Epoch 1/100\n",
      "36/36 - 0s - loss: 0.5816 - accuracy: 0.6901 - val_loss: 0.5255 - val_accuracy: 0.7629\n",
      "Epoch 2/100\n",
      "36/36 - 0s - loss: 0.4698 - accuracy: 0.7756 - val_loss: 0.4596 - val_accuracy: 0.7740\n",
      "Epoch 3/100\n",
      "36/36 - 0s - loss: 0.4261 - accuracy: 0.7918 - val_loss: 0.4296 - val_accuracy: 0.7875\n",
      "Epoch 4/100\n",
      "36/36 - 0s - loss: 0.4023 - accuracy: 0.7997 - val_loss: 0.4200 - val_accuracy: 0.8098\n",
      "Epoch 5/100\n",
      "36/36 - 0s - loss: 0.3883 - accuracy: 0.8008 - val_loss: 0.3970 - val_accuracy: 0.8076\n",
      "Epoch 6/100\n",
      "36/36 - 0s - loss: 0.3885 - accuracy: 0.7985 - val_loss: 0.4179 - val_accuracy: 0.7830\n",
      "Epoch 7/100\n",
      "36/36 - 0s - loss: 0.3771 - accuracy: 0.8033 - val_loss: 0.3861 - val_accuracy: 0.8233\n",
      "Epoch 8/100\n",
      "36/36 - 0s - loss: 0.3732 - accuracy: 0.8047 - val_loss: 0.3926 - val_accuracy: 0.8121\n",
      "Epoch 9/100\n",
      "36/36 - 0s - loss: 0.3704 - accuracy: 0.8069 - val_loss: 0.3842 - val_accuracy: 0.8188\n",
      "Epoch 10/100\n",
      "36/36 - 0s - loss: 0.3650 - accuracy: 0.8066 - val_loss: 0.3915 - val_accuracy: 0.8031\n",
      "Epoch 11/100\n",
      "36/36 - 0s - loss: 0.3602 - accuracy: 0.8148 - val_loss: 0.3810 - val_accuracy: 0.8098\n",
      "Epoch 12/100\n",
      "36/36 - 0s - loss: 0.3590 - accuracy: 0.8111 - val_loss: 0.3967 - val_accuracy: 0.8076\n",
      "Epoch 13/100\n",
      "36/36 - 0s - loss: 0.3599 - accuracy: 0.8145 - val_loss: 0.3723 - val_accuracy: 0.8188\n",
      "Epoch 14/100\n",
      "36/36 - 0s - loss: 0.3553 - accuracy: 0.8139 - val_loss: 0.3852 - val_accuracy: 0.7852\n",
      "Epoch 15/100\n",
      "36/36 - 0s - loss: 0.3565 - accuracy: 0.8128 - val_loss: 0.3887 - val_accuracy: 0.7897\n"
     ]
    },
    {
     "data": {
      "text/plain": [
       "<tensorflow.python.keras.callbacks.History at 0x1f2c4464c08>"
      ]
     },
     "execution_count": 3,
     "metadata": {},
     "output_type": "execute_result"
    }
   ],
   "source": [
    "input_size = 10\n",
    "output_size = 2\n",
    "hidden_layer_size = 50\n",
    "\n",
    "model = tf.keras.Sequential([\n",
    "                            tf.keras.layers.Dense(hidden_layer_size, activation='relu'),\n",
    "                            tf.keras.layers.Dense(hidden_layer_size, activation='relu'),\n",
    "                            tf.keras.layers.Dense(output_size, activation='softmax')\n",
    "                            ])\n",
    "model.compile(optimizer='adam', loss='sparse_categorical_crossentropy', metrics=['accuracy']) # Adam optimizer awesome! \n",
    "# sparse_categorical_crossentropy is chosen as loss function because it is a classification problem dealing with categorical\n",
    "# data and the function also one-hot encodes our targets, allowing for greater convenience.\n",
    "\n",
    "# Hyperparameters\n",
    "\n",
    "batch_size = 100\n",
    "max_epochs = 100\n",
    "\n",
    "#early stopping mechanism\n",
    "early_stopping = tf.keras.callbacks.EarlyStopping(patience = 2) # Early stopping mechanism. Patience of 2 implies slight \n",
    "                                                               # tolerance against random validation loss increases\n",
    "\n",
    "# Training\n",
    "model.fit(train_inputs, \n",
    "          train_targets, \n",
    "          batch_size=batch_size, \n",
    "          epochs = max_epochs, \n",
    "          callbacks=[early_stopping], # callbacks are functions called after execution of task. \n",
    "          validation_data=(validation_inputs, validation_targets), \n",
    "          verbose=2)"
   ]
  },
  {
   "cell_type": "markdown",
   "metadata": {},
   "source": [
    "#### Testing the model"
   ]
  },
  {
   "cell_type": "code",
   "execution_count": 4,
   "metadata": {},
   "outputs": [
    {
     "name": "stdout",
     "output_type": "stream",
     "text": [
      "14/14 [==============================] - 0s 712us/step - loss: 0.4940 - accuracy: 0.7924\n"
     ]
    }
   ],
   "source": [
    "test_loss, test_accuracy = model.evaluate(test_inputs, test_targets)"
   ]
  },
  {
   "cell_type": "code",
   "execution_count": 5,
   "metadata": {},
   "outputs": [
    {
     "name": "stdout",
     "output_type": "stream",
     "text": [
      "\n",
      "Test loss: 0.49. Test accuracy: 79.24%\n"
     ]
    }
   ],
   "source": [
    "print('\\nTest loss: {0:.2f}. Test accuracy: {1:.2f}%'.format(test_loss, test_accuracy*100.))"
   ]
  },
  {
   "cell_type": "code",
   "execution_count": null,
   "metadata": {},
   "outputs": [],
   "source": []
  }
 ],
 "metadata": {
  "kernelspec": {
   "display_name": "Python 3",
   "language": "python",
   "name": "python3"
  },
  "language_info": {
   "codemirror_mode": {
    "name": "ipython",
    "version": 3
   },
   "file_extension": ".py",
   "mimetype": "text/x-python",
   "name": "python",
   "nbconvert_exporter": "python",
   "pygments_lexer": "ipython3",
   "version": "3.7.6"
  }
 },
 "nbformat": 4,
 "nbformat_minor": 4
}
