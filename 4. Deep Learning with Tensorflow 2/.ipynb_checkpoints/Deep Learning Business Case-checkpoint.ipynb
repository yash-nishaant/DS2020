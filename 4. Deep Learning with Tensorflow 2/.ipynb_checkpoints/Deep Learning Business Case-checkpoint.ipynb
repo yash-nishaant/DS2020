{
 "cells": [
  {
   "cell_type": "markdown",
   "metadata": {},
   "source": [
    "# Audiobook App Business Case"
   ]
  },
  {
   "cell_type": "markdown",
   "metadata": {},
   "source": [
    "The given dataset contains information about customer purchases from an audiobook app. Each customer in the database has made at least one purchase from the app. The following is an implementation of a deep learning model designed with Tensorflow 2 which seeks to examine the <b>likelihood of these customers making a purchase from the app again </b>. The motivation behind answering this question is to determine the most effective methods and userbase to advertise to. It is reasonable to assume that given information about the purchasing habits and experience of customers, and targetting those that are predicted to be most likely to buy again through a well-trained model will yield the best, most targeted and accurate results regarding potential future customers and allow the app company to design the optimal ad campaign.  "
   ]
  },
  {
   "cell_type": "markdown",
   "metadata": {},
   "source": [
    "The data provides us with several important variables to consider. We have standard attributes about the purchase such as the price and minutes listened, effective indicators of how big a priority audiobooks are in the customer's life. We also have consumer engagement metrics such as review status and score, number of support requests and the difference between the last app visit and the purchase date.  \n",
    "\n",
    "The data was gathered from an audiobook app and contains 2 years worth of customer engagement data. This data is contained in the loaded <code>.csv</code> file. There was, however, a further 6 months worth of consumer data analyzed to determine if there had been a purchase from the customer in that time period. The results are the boolean targets for the model. If there have been no purchases in the 6-month period, it is safe to assume that the customer has moved on to a different provider or just stopped buying audiobooks.  "
   ]
  },
  {
   "cell_type": "code",
   "execution_count": 1,
   "metadata": {},
   "outputs": [],
   "source": [
    "import tensorflow as tf"
   ]
  },
  {
   "cell_type": "code",
   "execution_count": 2,
   "metadata": {},
   "outputs": [
    {
     "name": "stdout",
     "output_type": "stream",
     "text": [
      "<module 'tensorflow._api.v2.version' from 'c:\\\\users\\\\yashn\\\\anaconda3\\\\envs\\\\tensorflow\\\\lib\\\\site-packages\\\\tensorflow\\\\_api\\\\v2\\\\version\\\\__init__.py'>\n"
     ]
    }
   ],
   "source": [
    "print(tf.version)"
   ]
  },
  {
   "cell_type": "code",
   "execution_count": null,
   "metadata": {},
   "outputs": [],
   "source": []
  }
 ],
 "metadata": {
  "kernelspec": {
   "display_name": "Python 3",
   "language": "python",
   "name": "python3"
  },
  "language_info": {
   "codemirror_mode": {
    "name": "ipython",
    "version": 3
   },
   "file_extension": ".py",
   "mimetype": "text/x-python",
   "name": "python",
   "nbconvert_exporter": "python",
   "pygments_lexer": "ipython3",
   "version": "3.7.6"
  }
 },
 "nbformat": 4,
 "nbformat_minor": 4
}
